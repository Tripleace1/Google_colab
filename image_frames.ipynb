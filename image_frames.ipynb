{
  "nbformat": 4,
  "nbformat_minor": 0,
  "metadata": {
    "colab": {
      "name": "Untitled0.ipynb",
      "provenance": [],
      "authorship_tag": "ABX9TyMZBdTOy0WT96HPFKVtzTGR",
      "include_colab_link": true
    },
    "kernelspec": {
      "name": "python3",
      "display_name": "Python 3"
    },
    "language_info": {
      "name": "python"
    }
  },
  "cells": [
    {
      "cell_type": "markdown",
      "metadata": {
        "id": "view-in-github",
        "colab_type": "text"
      },
      "source": [
        "<a href=\"https://colab.research.google.com/github/Tripleace1/Google_colab/blob/main/image_frames.ipynb\" target=\"_parent\"><img src=\"https://colab.research.google.com/assets/colab-badge.svg\" alt=\"Open In Colab\"/></a>"
      ]
    },
    {
      "cell_type": "code",
      "execution_count": 3,
      "metadata": {
        "id": "EP15P-Xij7Tv"
      },
      "outputs": [],
      "source": [
        "import cv2\n",
        " \n",
        "# Opens the inbuilt camera of laptop to capture video.\n",
        "cap = cv2.VideoCapture(0)\n",
        "i = 0\n",
        " \n",
        "while(cap.isOpened()):\n",
        "    ret, frame = cap.read()\n",
        "     \n",
        "    # This condition prevents from infinite looping\n",
        "    # incase video ends.\n",
        "    if ret == False:\n",
        "        break\n",
        "     \n",
        "    # Save Frame by Frame into disk using imwrite method\n",
        "    cv2.imwrite('Frame'+str(i)+'.jpg', frame)\n",
        "    i += 1\n",
        " \n",
        "cap.release()\n",
        "cv2.destroyAllWindows()\n"
      ]
    },
    {
      "cell_type": "code",
      "source": [
        ""
      ],
      "metadata": {
        "id": "qxC-4HdYkUkz"
      },
      "execution_count": null,
      "outputs": []
    }
  ]
}